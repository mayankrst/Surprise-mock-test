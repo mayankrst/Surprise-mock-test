{
 "cells": [
  {
   "cell_type": "markdown",
   "id": "6fb9a00a",
   "metadata": {},
   "source": [
    "Move Zeroes\n",
    "\n",
    "Given an integer array nums, move all 0's to the end of it while maintaining the relative order of the non-zero elements.\n",
    "\n",
    "Note that you must do this in-place without making a copy of the array.\n",
    "\n",
    "Example 1:\n",
    "Input: nums = [0,1,0,3,12]\n",
    "Output: [1,3,12,0,0]\n",
    "\n",
    "Example 2:\n",
    "Input: nums = [0]\n",
    "Output: [0]\n",
    "\n",
    "Constraints:\n",
    "a. 1 <= nums.length <= 10^4\n",
    "b. -2^31 <= nums[i] <= 2^31 - 1\n"
   ]
  },
  {
   "cell_type": "code",
   "execution_count": 22,
   "id": "b257997a",
   "metadata": {},
   "outputs": [
    {
     "name": "stdout",
     "output_type": "stream",
     "text": [
      "Number of elements in array:5\n",
      "0\n",
      "1\n",
      "0\n",
      "3\n",
      "12\n",
      " 0's to the end of it while maintaining the relative order of the non-zero elements.:\n",
      "[1, 3, 12, 0, 0]\n"
     ]
    }
   ],
   "source": [
    "def lastzero(arr, n):\n",
    "    count = 0\n",
    "    for i in range(n):\n",
    "        if arr[i] != 0:\n",
    "            arr[count] = arr[i]\n",
    "            count+=1\n",
    "    while count < n:\n",
    "        arr[count] = 0\n",
    "        count += 1\n",
    "arr=[]\n",
    "np=int(input(\"Number of elements in array:\"))\n",
    "for i in range(0,np):\n",
    "    l=int(input())\n",
    "    arr.append(l)\n",
    "n = len(arr)\n",
    "lastzero(arr, n)\n",
    "print(\" 0's to the end of it while maintaining the relative order of the non-zero elements.:\")\n",
    "print(arr)"
   ]
  },
  {
   "cell_type": "markdown",
   "id": "0d3da23d",
   "metadata": {},
   "source": [
    "First Unique Character in a String\n",
    "\n",
    "Given a string s, find the first non-repeating character in it and return its index. If it does not exist, return -1.\n",
    "\n",
    "Example 1:\n",
    "Input: s = \"leetcode\"\n",
    "Output: 0\n",
    "\n",
    "Example 2:\n",
    "Input: s = \"loveleetcode\"\n",
    "Output: 2\n",
    "\n",
    "Example 3:\n",
    "Input: s = \"aabb\"\n",
    "Output: -1\n",
    "\n",
    "Constraints:\n",
    "a. 1 <= s.length <= 10^5\n",
    "b. s consists of only lowercase English letters."
   ]
  },
  {
   "cell_type": "code",
   "execution_count": 15,
   "id": "934812a6",
   "metadata": {},
   "outputs": [
    {
     "name": "stdout",
     "output_type": "stream",
     "text": [
      "0\n",
      "2\n",
      "-1\n"
     ]
    }
   ],
   "source": [
    "def unilet(s):\n",
    "    char_freq = {}\n",
    "    for char in s:\n",
    "        char_freq[char] = char_freq.get(char, 0) + 1\n",
    "    for i, char in enumerate(s):\n",
    "        if char_freq[char] == 1:\n",
    "            return i\n",
    "    return -1\n",
    "s = \"leetcode\"\n",
    "print(unilet(s))\n",
    "\n",
    "s = \"loveleetcode\"\n",
    "print(unilet(s))\n",
    "\n",
    "s = \"aabb\"\n",
    "print(unilet(s))\n"
   ]
  },
  {
   "cell_type": "code",
   "execution_count": null,
   "id": "5fa556fc",
   "metadata": {},
   "outputs": [],
   "source": []
  }
 ],
 "metadata": {
  "kernelspec": {
   "display_name": "Python 3 (ipykernel)",
   "language": "python",
   "name": "python3"
  },
  "language_info": {
   "codemirror_mode": {
    "name": "ipython",
    "version": 3
   },
   "file_extension": ".py",
   "mimetype": "text/x-python",
   "name": "python",
   "nbconvert_exporter": "python",
   "pygments_lexer": "ipython3",
   "version": "3.9.13"
  }
 },
 "nbformat": 4,
 "nbformat_minor": 5
}
